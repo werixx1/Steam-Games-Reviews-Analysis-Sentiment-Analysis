{
 "cells": [
  {
   "cell_type": "markdown",
   "id": "a61ce300",
   "metadata": {},
   "source": [
    "if you're working in Google Colab add code:\n",
    "> `!pip install -r requirements.txt`\n"
   ]
  },
  {
   "cell_type": "code",
   "execution_count": null,
   "id": "def30751",
   "metadata": {},
   "outputs": [],
   "source": [
    "reviews = pd.read_csv('steam.csv', header=None, names=['app_id', 'text_review', 'review_score', 'review_votes'])"
   ]
  },
  {
   "cell_type": "code",
   "execution_count": null,
   "id": "d729198d",
   "metadata": {},
   "outputs": [],
   "source": [
    "reviews.head()"
   ]
  },
  {
   "cell_type": "code",
   "execution_count": null,
   "id": "05c8bc23",
   "metadata": {},
   "outputs": [],
   "source": [
    "print(reviews.info())"
   ]
  },
  {
   "cell_type": "code",
   "execution_count": null,
   "id": "6b6fed39",
   "metadata": {},
   "outputs": [],
   "source": [
    "print(reviews.shape)\n",
    "print(\"rows, columns\")"
   ]
  },
  {
   "cell_type": "markdown",
   "id": "219267d5",
   "metadata": {},
   "source": [
    "### Preprocessing"
   ]
  },
  {
   "cell_type": "code",
   "execution_count": null,
   "id": "46c3593a",
   "metadata": {},
   "outputs": [],
   "source": [
    "# printing the number of null values for each feature\n",
    "print(reviews.isnull().sum())"
   ]
  },
  {
   "cell_type": "code",
   "execution_count": null,
   "id": "5436df0b",
   "metadata": {},
   "outputs": [],
   "source": [
    "# removing rows where text_review is empty\n",
    "reviews = reviews.dropna()"
   ]
  },
  {
   "cell_type": "code",
   "execution_count": null,
   "id": "b3b0b4bc",
   "metadata": {},
   "outputs": [],
   "source": [
    "print(reviews.isnull().sum())"
   ]
  },
  {
   "cell_type": "code",
   "execution_count": null,
   "id": "4c72a9e8",
   "metadata": {},
   "outputs": [],
   "source": [
    "reviews.shape"
   ]
  },
  {
   "cell_type": "code",
   "execution_count": null,
   "id": "3d419e52",
   "metadata": {},
   "outputs": [],
   "source": [
    "# cutting dataset by half to make preprocessing and training faster (since it's a large set)\n",
    "_, reviews_sampled = train_test_split(\n",
    "    reviews,\n",
    "    test_size=0.5,\n",
    "    stratify=reviews['review_score'],\n",
    "    random_state=42\n",
    ")\n",
    "reviews = reviews_sampled.copy()"
   ]
  },
  {
   "cell_type": "code",
   "execution_count": null,
   "id": "45b8eb65",
   "metadata": {},
   "outputs": [],
   "source": [
    "reviews.shape"
   ]
  },
  {
   "cell_type": "code",
   "execution_count": null,
   "id": "bb7a19fd",
   "metadata": {},
   "outputs": [],
   "source": [
    "# stopwords\n",
    "print(STOPWORDS)"
   ]
  },
  {
   "cell_type": "code",
   "execution_count": null,
   "id": "4fd148c6",
   "metadata": {},
   "outputs": [],
   "source": [
    "# function for text normalization (to lower, removing whitespaces, numbers etc)\n",
    "def preprocess_data(reviews):\n",
    "  if isinstance(reviews, str):\n",
    "    reviews = reviews.lower()\n",
    "    reviews = strip_multiple_whitespaces(reviews)\n",
    "    reviews = strip_punctuation(strip_numeric(reviews))\n",
    "    reviews = reviews.strip()\n",
    "\n",
    "  return reviews"
   ]
  },
  {
   "cell_type": "code",
   "execution_count": null,
   "id": "5318a023",
   "metadata": {},
   "outputs": [],
   "source": [
    "# adding custom stopwords that appear in dataset\n",
    "custom_stopwords = set(STOPWORDS)\n",
    "custom_stopwords.update(['ô', '•', 'AAA', 'ù§', 'Ä¢', 'ñë', 'ñÑ', 'ñà'])\n",
    "custom_stopwords = frozenset(custom_stopwords)"
   ]
  },
  {
   "cell_type": "code",
   "execution_count": null,
   "id": "a58d263b",
   "metadata": {},
   "outputs": [],
   "source": [
    "# function that removes stopwords\n",
    "def remove_custom_stopwords(reviews):\n",
    "  return remove_stopwords(reviews, stopwords = custom_stopwords)"
   ]
  },
  {
   "cell_type": "code",
   "execution_count": null,
   "id": "1988434e",
   "metadata": {},
   "outputs": [],
   "source": [
    "# applying both functions\n",
    "reviews['clean_reviews'] = reviews['text_review'].apply(preprocess_data)\n",
    "reviews['stopwords_removed'] = reviews['clean_reviews'].apply(remove_custom_stopwords)\n",
    "\n",
    "# printing few cleaned reviews\n",
    "reviews.head()"
   ]
  },
  {
   "cell_type": "markdown",
   "id": "d5f76c49",
   "metadata": {},
   "source": [
    "### Data visualization"
   ]
  },
  {
   "cell_type": "code",
   "execution_count": null,
   "id": "97be20d6",
   "metadata": {},
   "outputs": [],
   "source": [
    "# showing how many reviews are in each category (1 -1)\n",
    "temp = reviews.groupby('review_score').count()['text_review'].reset_index().sort_values(by='text_review',ascending=False)\n",
    "temp.style.background_gradient(cmap='Purples')"
   ]
  },
  {
   "cell_type": "code",
   "execution_count": null,
   "id": "548d8546",
   "metadata": {},
   "outputs": [],
   "source": [
    "sns.set_theme(style='whitegrid')\n",
    "sns.set(rc = {'figure.figsize':(13,8)})\n",
    "sns.set_palette(\"pastel\")\n",
    "sns.countplot(x='review_score',data=reviews)"
   ]
  },
  {
   "cell_type": "markdown",
   "id": "56b585a4",
   "metadata": {},
   "source": [
    "### Dividing data into training and test sets"
   ]
  },
  {
   "cell_type": "code",
   "execution_count": null,
   "id": "b63e6c58",
   "metadata": {},
   "outputs": [],
   "source": [
    "X = reviews['stopwords_removed'] # working on cleaned data\n",
    "y = reviews['review_score']\n",
    "\n",
    "X_train, X_test, y_train, y_test = train_test_split(X, y, test_size=0.2, random_state=42)"
   ]
  },
  {
   "cell_type": "code",
   "execution_count": null,
   "id": "550eae71",
   "metadata": {},
   "outputs": [],
   "source": [
    "# turning reviews into vectors\n",
    "vectorizer = TfidfVectorizer(max_features=1000)\n",
    "X_train_tfidf = vectorizer.fit_transform(X_train)\n",
    "X_test_tfidf = vectorizer.transform(X_test)"
   ]
  },
  {
   "cell_type": "code",
   "execution_count": null,
   "id": "dd418946",
   "metadata": {},
   "outputs": [],
   "source": [
    "vectorizer.get_feature_names_out()"
   ]
  },
  {
   "cell_type": "markdown",
   "id": "944a6adb",
   "metadata": {},
   "source": [
    "### Balancing data"
   ]
  },
  {
   "cell_type": "code",
   "execution_count": null,
   "id": "cfd9475c",
   "metadata": {},
   "outputs": [],
   "source": [
    "# we use undersampling to balance both classes to have the same amount of examples for training\n",
    "# since there's much more positive reviews than negative\n",
    "rus = RandomUnderSampler(sampling_strategy='auto', random_state=42)\n",
    "X_train_resampled, y_train_resampled  = rus.fit_resample(X_train_tfidf, y_train)"
   ]
  },
  {
   "cell_type": "code",
   "execution_count": null,
   "id": "b463e60c",
   "metadata": {},
   "outputs": [],
   "source": [
    "# number of data in each class after balancing\n",
    "y_train_resampled.value_counts()"
   ]
  },
  {
   "cell_type": "code",
   "execution_count": null,
   "id": "3fb97cfa",
   "metadata": {},
   "outputs": [],
   "source": [
    "sns.set_theme(style='whitegrid')\n",
    "sns.set(rc={'figure.figsize': (13, 8)})\n",
    "sns.set_palette(\"pastel\")\n",
    "sns.countplot(x=y_train_resampled)"
   ]
  }
 ],
 "metadata": {
  "kernelspec": {
   "display_name": "Python 3",
   "language": "python",
   "name": "python3"
  },
  "language_info": {
   "name": "python",
   "version": "3.12.9"
  }
 },
 "nbformat": 4,
 "nbformat_minor": 5
}
